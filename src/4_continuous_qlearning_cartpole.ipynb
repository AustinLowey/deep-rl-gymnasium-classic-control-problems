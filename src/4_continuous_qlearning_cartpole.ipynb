{
 "cells": [
  {
   "cell_type": "markdown",
   "metadata": {},
   "source": [
    "### Continuous Q-Learning with Discretization (Using Discrete Bins of Continuous Observation Space Range Values)"
   ]
  },
  {
   "cell_type": "code",
   "execution_count": 1,
   "metadata": {},
   "outputs": [],
   "source": [
    "import os\n",
    "import time\n",
    "from typing import Tuple\n",
    "\n",
    "import gymnasium as gym\n",
    "import matplotlib.pyplot as plt\n",
    "import numpy as np"
   ]
  },
  {
   "cell_type": "code",
   "execution_count": 2,
   "metadata": {},
   "outputs": [
    {
     "name": "stdout",
     "output_type": "stream",
     "text": [
      "info={}\n",
      "observation=array([ 0.03981761, -0.01657994,  0.0353497 , -0.01928021], dtype=float32)\n",
      "env.observation_space=Box([-4.8               -inf -0.41887903        -inf], [4.8               inf 0.41887903        inf], (4,), float32)\n",
      "env.action_space=Discrete(2)\n",
      "----------------------------------------------------------------------------------------------------\n",
      "step=0 | action=1 | observation_rounded=array([ 0.04,  0.18,  0.03, -0.3 ], dtype=float32) | reward=1.0 | done=False\n",
      "step=1 | action=0 | observation_rounded=array([ 0.04, -0.02,  0.03,  0.  ], dtype=float32) | reward=1.0 | done=False\n",
      "step=2 | action=0 | observation_rounded=array([ 0.04, -0.21,  0.03,  0.3 ], dtype=float32) | reward=1.0 | done=False\n",
      "step=3 | action=1 | observation_rounded=array([ 0.04, -0.02,  0.04,  0.02], dtype=float32) | reward=1.0 | done=False\n",
      "step=4 | action=1 | observation_rounded=array([ 0.04,  0.18,  0.04, -0.26], dtype=float32) | reward=1.0 | done=False\n",
      "step=5 | action=0 | observation_rounded=array([ 0.04, -0.02,  0.03,  0.04], dtype=float32) | reward=1.0 | done=False\n",
      "step=6 | action=0 | observation_rounded=array([ 0.04, -0.21,  0.03,  0.35], dtype=float32) | reward=1.0 | done=False\n",
      "step=7 | action=0 | observation_rounded=array([ 0.04, -0.41,  0.04,  0.65], dtype=float32) | reward=1.0 | done=False\n",
      "step=8 | action=1 | observation_rounded=array([ 0.03, -0.22,  0.05,  0.37], dtype=float32) | reward=1.0 | done=False\n",
      "step=9 | action=0 | observation_rounded=array([ 0.02, -0.41,  0.06,  0.68], dtype=float32) | reward=1.0 | done=False\n",
      "step=10 | action=0 | observation_rounded=array([ 0.02, -0.61,  0.07,  0.99], dtype=float32) | reward=1.0 | done=False\n",
      "step=11 | action=1 | observation_rounded=array([ 0.  , -0.41,  0.09,  0.72], dtype=float32) | reward=1.0 | done=False\n",
      "step=12 | action=1 | observation_rounded=array([-0.  , -0.22,  0.11,  0.45], dtype=float32) | reward=1.0 | done=False\n",
      "step=13 | action=1 | observation_rounded=array([-0.01, -0.03,  0.12,  0.2 ], dtype=float32) | reward=1.0 | done=False\n",
      "step=14 | action=0 | observation_rounded=array([-0.01, -0.22,  0.12,  0.52], dtype=float32) | reward=1.0 | done=False\n",
      "step=15 | action=0 | observation_rounded=array([-0.01, -0.42,  0.13,  0.85], dtype=float32) | reward=1.0 | done=False\n",
      "step=16 | action=1 | observation_rounded=array([-0.02, -0.23,  0.15,  0.6 ], dtype=float32) | reward=1.0 | done=False\n",
      "step=17 | action=1 | observation_rounded=array([-0.03, -0.03,  0.16,  0.36], dtype=float32) | reward=1.0 | done=False\n",
      "step=18 | action=0 | observation_rounded=array([-0.03, -0.23,  0.17,  0.7 ], dtype=float32) | reward=1.0 | done=False\n",
      "step=19 | action=0 | observation_rounded=array([-0.03, -0.43,  0.18,  1.04], dtype=float32) | reward=1.0 | done=False\n",
      "step=20 | action=1 | observation_rounded=array([-0.04, -0.24,  0.2 ,  0.81], dtype=float32) | reward=1.0 | done=False\n",
      "step=21 | action=1 | observation_rounded=array([-0.05, -0.04,  0.22,  0.58], dtype=float32) | reward=1.0 | done=True\n"
     ]
    }
   ],
   "source": [
    "### Exploring environment with basic env setup and a series of random actions ###\n",
    "\n",
    "env = gym.make('CartPole-v1', render_mode='human')\n",
    "\n",
    "observation, info = env.reset()\n",
    "\n",
    "# Print info, obs space, action space\n",
    "print(f'{info=}')\n",
    "print(f'{observation=}')\n",
    "print(f'{env.observation_space=}') # Obs space is nd.array([cart pos., cart vel., pole angle, pole angular vel.])\n",
    "print(f'{env.action_space=}') # Action space is: 0, 1 = left, right\n",
    "print('-'*100)\n",
    "\n",
    "for step in range(1000):\n",
    "    env.render()\n",
    "    action = env.action_space.sample()\n",
    "    observation, reward, done, truncated, info = env.step(action)\n",
    "    observation_rounded = np.round(observation, 2)\n",
    "    print(f'{step=} | {action=} | {observation_rounded=} | {reward=} | {done=}')\n",
    "    time.sleep(0.01)\n",
    "\n",
    "    if done or truncated:\n",
    "        break\n",
    "\n",
    "env.close()"
   ]
  },
  {
   "cell_type": "markdown",
   "metadata": {},
   "source": [
    "#### Q-Learning Process Below"
   ]
  },
  {
   "cell_type": "code",
   "execution_count": 3,
   "metadata": {},
   "outputs": [
    {
     "name": "stdout",
     "output_type": "stream",
     "text": [
      "tmp_test_bins=array([[-4.8   , -3.84  , -2.88  , -1.92  , -0.96  ,  0.    ,  0.96  ,\n",
      "         1.92  ,  2.88  ,  3.84  ,  4.8   ],\n",
      "       [-5.    , -4.    , -3.    , -2.    , -1.    ,  0.    ,  1.    ,\n",
      "         2.    ,  3.    ,  4.    ,  5.    ],\n",
      "       [-0.418 , -0.3344, -0.2508, -0.1672, -0.0836,  0.    ,  0.0836,\n",
      "         0.1672,  0.2508,  0.3344,  0.418 ],\n",
      "       [-5.    , -4.    , -3.    , -2.    , -1.    ,  0.    ,  1.    ,\n",
      "         2.    ,  3.    ,  4.    ,  5.    ]])\n",
      "tmp_test_binned_observations=(0, 5, 9, 6)\n"
     ]
    }
   ],
   "source": [
    "### Create discretization/binning functions ###\n",
    "\n",
    "def create_bins(num_bins: Tuple[int]) -> np.ndarray:\n",
    "    \"\"\"\n",
    "    Creates discretization bins for different features.\n",
    "\n",
    "    Args:\n",
    "        num_bins (Tuple[int]): A tuple specifying the number of bins for each feature\n",
    "\n",
    "    Returns:\n",
    "        np.ndarray: 2D array of arrays where each corresponds to a set of bins for each feature\n",
    "            - Row 0: Cart position. Row 1: Cart velocity. Row 2: Pole angle. Row 3: Pole angular velocity\n",
    "    \"\"\"\n",
    "\n",
    "    bins_cart_pos = np.linspace(-4.8, 4.8, num_bins[0] + 1)\n",
    "    bins_cart_vel = np.linspace(-5, 5, num_bins[1] + 1) # Play game / explore env a bit to determine this range\n",
    "    bins_pole_angle = np.linspace(-0.418, 0.418, num_bins[2] + 1) # In radians\n",
    "    bins_pole_angular_vel = np.linspace(-5, 5, num_bins[3] + 1)\n",
    "\n",
    "    return np.array([bins_cart_pos, bins_cart_vel, bins_pole_angle, bins_pole_angular_vel])\n",
    "\n",
    "\n",
    "def discretize_observation(observations: np.ndarray, bins: np.ndarray) -> Tuple[int, ...]:\n",
    "    \"\"\"\n",
    "    Discretizes the given observations by finding which bin each value belongs to.\n",
    "\n",
    "    Args:\n",
    "        observations (np.ndarray): 1D array containing the observation values for the four features.\n",
    "        bins (np.ndarray): 2D array of arrays containing the bins for each feature.\n",
    "\n",
    "    Returns:\n",
    "        Tuple[int, ...]: Tuple of ints representing bin indices that correspond to the given observations.\n",
    "    \"\"\"\n",
    "\n",
    "    return tuple(min(np.digitize(obs, bins[i]) - 1, len(bins[i]) - 2) for i, obs in enumerate(observations))\n",
    "\n",
    "\n",
    "# Testing of the binning and discretization/digitize functions on a sample observation\n",
    "tmp_test_bins = create_bins((10, 10, 10, 10))\n",
    "print(f'{tmp_test_bins=}')\n",
    "tmp_test_observations = np.array([-4.1010924,  0.799106,  0.417,  1.458236])\n",
    "tmp_test_binned_observations = discretize_observation(tmp_test_observations, tmp_test_bins)\n",
    "print(f'{tmp_test_binned_observations=}')"
   ]
  },
  {
   "cell_type": "code",
   "execution_count": 14,
   "metadata": {},
   "outputs": [
    {
     "name": "stdout",
     "output_type": "stream",
     "text": [
      "empty_q_table.shape=(30, 30, 30, 30, 2)\n"
     ]
    }
   ],
   "source": [
    "### Define hyperparameters and Q-table ###\n",
    "\n",
    "NUM_BINS = (30, 30, 30, 30) # cart pos., cart vel., pole angle, pole angular vel.\n",
    "\n",
    "TOTAL_EPISODES = 50000\n",
    "ALPHA = 0.5\n",
    "GAMMA = 0.95\n",
    "\n",
    "MAX_EPSILON = 1.0\n",
    "MIN_EPSILON = 0.0\n",
    "\n",
    "# For linear epsilon decay\n",
    "BURN_IN = 1\n",
    "EPSILON_END = 20000 # Or just use TOTAL_EPISODES in place of EPSILON_END?\n",
    "EPSILON_REDUCE = 0.00005\n",
    "\n",
    "# For exponential epsilon decay\n",
    "DECAY_RATE = 0.0001\n",
    "\n",
    "empty_q_table = np.zeros((*NUM_BINS, env.action_space.n))\n",
    "print(f'{empty_q_table.shape=}')"
   ]
  },
  {
   "cell_type": "code",
   "execution_count": 15,
   "metadata": {},
   "outputs": [],
   "source": [
    "### Define other core functions that will be used during the actual training loop ###\n",
    "\n",
    "def select_action_epsilon_greedy(epsilon, q_table, discrete_state, env):\n",
    "    \"\"\"Choose either best action or random action based on random number [0,1) vs. current epsilon.\"\"\"\n",
    "\n",
    "    if np.random.random() < epsilon:\n",
    "        return env.action_space.sample()\n",
    "    else: # Get index of max Q-value for the current state's row from the Q-table\n",
    "        return np.argmax(q_table[discrete_state])\n",
    "    \n",
    "\n",
    "def compute_next_q_value(curr_q_value, new_state_optimal_q_value, reward):\n",
    "    \"\"\"Update the Q-value using the Bellman equation.\"\"\"\n",
    "\n",
    "    return curr_q_value + ALPHA * (reward + GAMMA * new_state_optimal_q_value - curr_q_value)\n",
    "\n",
    "\n",
    "def linear_decay_epsilon(epsilon, episode):\n",
    "    \"\"\"Decay epsilon (linear) after each episode to balance exploration and exploitation.\"\"\"\n",
    "    \n",
    "    if BURN_IN <= episode <= EPSILON_END:\n",
    "        epsilon -= EPSILON_REDUCE\n",
    "        \n",
    "    return max(MIN_EPSILON, epsilon)\n",
    "\n",
    "\n",
    "def exp_decay_epsilon(episode):\n",
    "    \"\"\"Decay epsilon (exponential) after each episode to balance exploration and exploitation.\"\"\"\n",
    "\n",
    "    return MIN_EPSILON + (MAX_EPSILON - MIN_EPSILON) * np.exp(-DECAY_RATE * episode)\n",
    "\n",
    "\n",
    "# Note: Functions like this one, but typically more sophisticated, will be useful in defining future, more complex simulations.\n",
    "def fail_episode_reward(done, curr_episode_total_reward, reward):\n",
    "    \"\"\"Function to inject an additional negative reward on agent failure.\"\"\"\n",
    "\n",
    "    if done and curr_episode_total_reward < 150:\n",
    "        return -200\n",
    "    else:\n",
    "        return reward"
   ]
  },
  {
   "cell_type": "code",
   "execution_count": 16,
   "metadata": {},
   "outputs": [
    {
     "name": "stdout",
     "output_type": "stream",
     "text": [
      "episode=1000 | avg_score_prev_100_episodes=-175\n",
      "episode=2000 | avg_score_prev_100_episodes=-171\n",
      "episode=3000 | avg_score_prev_100_episodes=-165\n",
      "episode=4000 | avg_score_prev_100_episodes=-160\n",
      "episode=5000 | avg_score_prev_100_episodes=-145\n",
      "episode=6000 | avg_score_prev_100_episodes=-127\n",
      "episode=7000 | avg_score_prev_100_episodes=-102\n",
      "episode=8000 | avg_score_prev_100_episodes=-76\n",
      "episode=9000 | avg_score_prev_100_episodes=-55\n",
      "episode=10000 | avg_score_prev_100_episodes=-29\n",
      "episode=11000 | avg_score_prev_100_episodes=-19\n",
      "episode=12000 | avg_score_prev_100_episodes=72\n",
      "episode=13000 | avg_score_prev_100_episodes=70\n",
      "episode=14000 | avg_score_prev_100_episodes=86\n",
      "episode=15000 | avg_score_prev_100_episodes=119\n",
      "episode=16000 | avg_score_prev_100_episodes=134\n",
      "episode=17000 | avg_score_prev_100_episodes=187\n",
      "episode=18000 | avg_score_prev_100_episodes=150\n",
      "episode=19000 | avg_score_prev_100_episodes=218\n",
      "episode=20000 | avg_score_prev_100_episodes=223\n",
      "episode=21000 | avg_score_prev_100_episodes=209\n",
      "episode=22000 | avg_score_prev_100_episodes=224\n",
      "episode=23000 | avg_score_prev_100_episodes=324\n",
      "episode=24000 | avg_score_prev_100_episodes=203\n",
      "episode=25000 | avg_score_prev_100_episodes=345\n",
      "episode=26000 | avg_score_prev_100_episodes=365\n",
      "episode=27000 | avg_score_prev_100_episodes=388\n",
      "episode=28000 | avg_score_prev_100_episodes=440\n",
      "episode=29000 | avg_score_prev_100_episodes=367\n",
      "episode=30000 | avg_score_prev_100_episodes=388\n",
      "episode=31000 | avg_score_prev_100_episodes=520\n",
      "episode=32000 | avg_score_prev_100_episodes=341\n",
      "episode=33000 | avg_score_prev_100_episodes=330\n",
      "episode=34000 | avg_score_prev_100_episodes=461\n",
      "episode=35000 | avg_score_prev_100_episodes=526\n",
      "episode=36000 | avg_score_prev_100_episodes=466\n",
      "episode=37000 | avg_score_prev_100_episodes=749\n",
      "episode=38000 | avg_score_prev_100_episodes=1093\n",
      "episode=39000 | avg_score_prev_100_episodes=516\n",
      "episode=40000 | avg_score_prev_100_episodes=292\n",
      "episode=41000 | avg_score_prev_100_episodes=354\n",
      "episode=42000 | avg_score_prev_100_episodes=359\n",
      "episode=43000 | avg_score_prev_100_episodes=339\n",
      "episode=44000 | avg_score_prev_100_episodes=390\n",
      "episode=45000 | avg_score_prev_100_episodes=439\n",
      "episode=46000 | avg_score_prev_100_episodes=384\n",
      "episode=47000 | avg_score_prev_100_episodes=396\n",
      "episode=48000 | avg_score_prev_100_episodes=1187\n",
      "episode=49000 | avg_score_prev_100_episodes=1381\n"
     ]
    }
   ],
   "source": [
    "### Execute the training loop ###\n",
    "\n",
    "BINS = create_bins(NUM_BINS)\n",
    "\n",
    "env = gym.make('CartPole-v1')\n",
    "epsilon = MAX_EPSILON\n",
    "q_table = np.zeros((*NUM_BINS, env.action_space.n))\n",
    "episode_rewards = []\n",
    "track_progress_interval = 1000 # Print performance metric(s) every _ episodes\n",
    "\n",
    "for episode in range(TOTAL_EPISODES):\n",
    "\n",
    "    # Reset the environment and the done variables\n",
    "    state, info = env.reset()\n",
    "    state_discretized = discretize_observation(state, BINS)\n",
    "    done = False\n",
    "    curr_episode_total_reward = 0\n",
    "\n",
    "    # Decay epsilon\n",
    "    epsilon = exp_decay_epsilon(episode)\n",
    "\n",
    "    # Play the game until game over\n",
    "    while not done:\n",
    "        # Perform action and get the associated reward and new state\n",
    "        action = select_action_epsilon_greedy(epsilon, q_table, state_discretized, env)\n",
    "        new_state, reward, done, truncated, info = env.step(action)\n",
    "\n",
    "        # Adding an extra custom reward function\n",
    "        reward = fail_episode_reward(done, curr_episode_total_reward, reward)\n",
    "\n",
    "        # Get Q-value of the current (or technically previous) state for the selected action\n",
    "        curr_q_value = q_table[state_discretized + (action,)]\n",
    "\n",
    "        # Get max Q-value for the new state from the Q-table\n",
    "        new_state_discretized = discretize_observation(new_state, BINS)\n",
    "        new_state_optimal_q_value = np.max(q_table[new_state_discretized])\n",
    "\n",
    "        # Update the Q-table for the current (previous) state+action\n",
    "        q_table[state_discretized + (action,)] = compute_next_q_value(curr_q_value, new_state_optimal_q_value, reward)\n",
    "\n",
    "        # Track sum of rewards across the entire episode, and set the new state for next loop\n",
    "        curr_episode_total_reward += reward\n",
    "        state_discretized = new_state_discretized\n",
    "\n",
    "    # Tracking performance across training\n",
    "    episode_rewards.append(curr_episode_total_reward)\n",
    "    if episode % track_progress_interval == 0 and episode != 0:\n",
    "        avg_score_prev_100_episodes = int(np.mean(episode_rewards[episode - 100:]))\n",
    "        print(f'{episode=} | {avg_score_prev_100_episodes=}')\n",
    "\n",
    "env.close()"
   ]
  },
  {
   "cell_type": "code",
   "execution_count": 17,
   "metadata": {},
   "outputs": [
    {
     "name": "stdout",
     "output_type": "stream",
     "text": [
      "Note: Negative rewards are due to custom reward function. For negative points, steps = reward + 200.\n"
     ]
    },
    {
     "data": {
      "image/png": "[encoded data removed]",
      "text/plain": [
       "<Figure size 640x480 with 1 Axes>"
      ]
     },
     "metadata": {},
     "output_type": "display_data"
    }
   ],
   "source": [
    "### Plot the episode rewards ###\n",
    "\n",
    "# Scatter plot of reward for each episode\n",
    "print('Note: Negative rewards are due to custom reward function. For negative points, steps = reward + 200.')\n",
    "plt.scatter(range(len(episode_rewards)), episode_rewards, s=1)\n",
    "plt.xlabel('Episode')\n",
    "plt.ylabel('Reward')\n",
    "plt.ylim(-1000, 5000) # Note: Some episodes likely hidden by upper y-limit\n",
    "plt.axhline(y=195, color='r', linestyle='--', label='Win Threshold (195 Steps)')\n",
    "plt.title('Rewards per Episode')\n",
    "plt.legend()\n",
    "plt.show()"
   ]
  },
  {
   "cell_type": "code",
   "execution_count": 18,
   "metadata": {},
   "outputs": [
    {
     "name": "stdout",
     "output_type": "stream",
     "text": [
      "Q-table saved to models\\4_continuous_qlearning_cartpole.npy\n"
     ]
    }
   ],
   "source": [
    "### Save the model ###\n",
    "\n",
    "# Create directory if it DNE yet\n",
    "save_dir = os.path.join('models')\n",
    "os.makedirs(save_dir, exist_ok=True)\n",
    "\n",
    "# Save the Q-table\n",
    "model_file_name = '4_continuous_qlearning_cartpole.npy'\n",
    "full_model_path = os.path.join(save_dir, model_file_name)\n",
    "np.save(full_model_path, q_table)\n",
    "print(f'Q-table saved to {full_model_path}')"
   ]
  },
  {
   "cell_type": "code",
   "execution_count": 19,
   "metadata": {},
   "outputs": [
    {
     "name": "stdout",
     "output_type": "stream",
     "text": [
      "Q-table loaded successfully from {full_model_path}\n",
      "In 100 trials ran, num_wins=100 and num_fails=0 with average_steps=465.15\n"
     ]
    }
   ],
   "source": [
    "### Testing + utilization of the trained policy (i.e., the learned Q-table) ###\n",
    "\n",
    "# Load the Q-table/model\n",
    "full_model_path = os.path.join('models', '4_continuous_qlearning_cartpole.npy')\n",
    "q_table = np.load(full_model_path)\n",
    "print('Q-table loaded successfully from {full_model_path}')\n",
    "\n",
    "# Define trials - CartPole problem is considered completed once agent wins (stay upright for 195+ steps) for 100 consecutive trials.\n",
    "NUM_TEST_TRIALS = 100\n",
    "num_wins = 0\n",
    "num_fails = 0\n",
    "total_steps = 0\n",
    "\n",
    "for trial in range(NUM_TEST_TRIALS):\n",
    "\n",
    "    # Reset environment for new trial\n",
    "    state, info = env.reset()\n",
    "    done = False\n",
    "    step = 0\n",
    "\n",
    "    # Play the game using the policy\n",
    "    while not done:\n",
    "        state_discretized = discretize_observation(state, BINS)\n",
    "        action = np.argmax(q_table[state_discretized]) \n",
    "        state, reward, done, truncated, info = env.step(action)\n",
    "        step += 1\n",
    "\n",
    "    # Update results tracking for the completed episode\n",
    "    total_steps += step\n",
    "    if step >= 195:\n",
    "        num_wins += 1\n",
    "    else:\n",
    "        num_fails += 1\n",
    "\n",
    "# Print the test results\n",
    "average_steps = total_steps / NUM_TEST_TRIALS\n",
    "print(f'In {NUM_TEST_TRIALS} trials ran, {num_wins=} and {num_fails=} with {average_steps=}')\n",
    "\n",
    "env.close()"
   ]
  }
 ],
 "metadata": {
  "kernelspec": {
   "display_name": "Python 3",
   "language": "python",
   "name": "python3"
  },
  "language_info": {
   "codemirror_mode": {
    "name": "ipython",
    "version": 3
   },
   "file_extension": ".py",
   "mimetype": "text/x-python",
   "name": "python",
   "nbconvert_exporter": "python",
   "pygments_lexer": "ipython3",
   "version": "3.12.2"
  }
 },
 "nbformat": 4,
 "nbformat_minor": 2
}
