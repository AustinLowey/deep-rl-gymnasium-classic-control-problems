{
 "cells": [
  {
   "cell_type": "markdown",
   "metadata": {},
   "source": [
    "## Classical Q-Learning on FrozenLake Problem"
   ]
  },
  {
   "cell_type": "code",
   "execution_count": 1,
   "metadata": {},
   "outputs": [],
   "source": [
    "import time\n",
    "\n",
    "import gymnasium as gym\n",
    "import matplotlib.pyplot as plt\n",
    "import numpy as np"
   ]
  },
  {
   "cell_type": "code",
   "execution_count": 2,
   "metadata": {},
   "outputs": [
    {
     "name": "stdout",
     "output_type": "stream",
     "text": [
      "info={'prob': 1} | observation=0 | env.observation_space=Discrete(16) | env.action_space=Discrete(4)\n",
      "----------------------------------------------------------------------------------------------------\n",
      "step=0 | action=0 | observation=0 | reward=0.0 | done=False | truncated=False | info={'prob': 1.0}\n",
      "step=1 | action=2 | observation=1 | reward=0.0 | done=False | truncated=False | info={'prob': 1.0}\n",
      "step=2 | action=0 | observation=0 | reward=0.0 | done=False | truncated=False | info={'prob': 1.0}\n",
      "step=3 | action=0 | observation=0 | reward=0.0 | done=False | truncated=False | info={'prob': 1.0}\n",
      "step=4 | action=2 | observation=1 | reward=0.0 | done=False | truncated=False | info={'prob': 1.0}\n",
      "step=5 | action=1 | observation=5 | reward=0.0 | done=True | truncated=False | info={'prob': 1.0}\n"
     ]
    }
   ],
   "source": [
    "### Exploring environment with basic env setup and a series of random actions ###\n",
    "\n",
    "env = gym.make('FrozenLake-v1', is_slippery=False, render_mode='human')\n",
    "\n",
    "observation, info = env.reset()\n",
    "\n",
    "# Print info, obs space, action space. Action space is: 0, 1, 2, 3 = left, down, right, up\n",
    "print(f'{info=} | {observation=} | {env.observation_space=} | {env.action_space=}')\n",
    "print('-'*100)\n",
    "\n",
    "for step in range(10):\n",
    "    env.render()\n",
    "    action = env.action_space.sample()\n",
    "    observation, reward, done, truncated, info = env.step(action)\n",
    "    print(f'{step=} | {action=} | {observation=} | {reward=} | {done=} | {truncated=} | {info=}')\n",
    "    time.sleep(0.2)\n",
    "\n",
    "    if done or truncated:\n",
    "        break\n",
    "\n",
    "env.close()"
   ]
  },
  {
   "cell_type": "markdown",
   "metadata": {},
   "source": [
    "### Actual RL/Classical Q-Learning Below"
   ]
  },
  {
   "cell_type": "code",
   "execution_count": 3,
   "metadata": {},
   "outputs": [],
   "source": [
    "### Define hyperparameters and core functions that will be used during the actual training loop ###\n",
    "\n",
    "TOTAL_EPISODES = 20000 # Number of times playing the entire game (NOT total number of steps).\n",
    "ALPHA = 0.8 # Learning rate. More typical to start with smaller value (maybe 0.1-0.3) in more complex environments.\n",
    "GAMMA = 0.95 # Discount rate\n",
    "\n",
    "MAX_EPSILON = 1.0\n",
    "MIN_EPSILON = 0.01\n",
    "DECAY_RATE = 0.001\n",
    "# epsilon = MAX_EPSILON # Set this inside of the training loop instead\n",
    "\n",
    "\n",
    "def select_action_epsilon_greedy(epsilon, q_table, discrete_state, env):\n",
    "    \"\"\"Choose either best action or random action based on random number [0,1) vs. current epsilon.\"\"\"\n",
    "\n",
    "    if np.random.random() < epsilon:\n",
    "        return env.action_space.sample()\n",
    "    else: # Get index of max Q-value for the current state's row from the Q-table\n",
    "        return np.argmax(q_table[discrete_state, :])\n",
    "    \n",
    "\n",
    "def compute_next_q_value(curr_q_value, new_state_optimal_q_value, reward):\n",
    "    \"\"\"Update the Q-value using the Bellman equation.\"\"\"\n",
    "\n",
    "    return curr_q_value + ALPHA * (reward + GAMMA * new_state_optimal_q_value - curr_q_value)\n",
    "\n",
    "\n",
    "def exp_decay_epsilon(episode):\n",
    "    \"\"\"Decay epsilon after each episode to balance exploration and exploitation.\"\"\"\n",
    "\n",
    "    return MIN_EPSILON + (MAX_EPSILON - MIN_EPSILON) * np.exp(-DECAY_RATE * episode)"
   ]
  },
  {
   "cell_type": "code",
   "execution_count": null,
   "metadata": {},
   "outputs": [
    {
     "name": "stdout",
     "output_type": "stream",
     "text": [
      "episode=1000 | successes_in_last_interval=287\n",
      "episode=2000 | successes_in_last_interval=740\n",
      "episode=3000 | successes_in_last_interval=893\n",
      "episode=4000 | successes_in_last_interval=957\n",
      "episode=5000 | successes_in_last_interval=978\n",
      "episode=6000 | successes_in_last_interval=992\n",
      "episode=7000 | successes_in_last_interval=993\n",
      "episode=8000 | successes_in_last_interval=990\n",
      "episode=9000 | successes_in_last_interval=992\n",
      "episode=10000 | successes_in_last_interval=989\n",
      "episode=11000 | successes_in_last_interval=991\n",
      "episode=12000 | successes_in_last_interval=991\n",
      "episode=13000 | successes_in_last_interval=988\n",
      "episode=14000 | successes_in_last_interval=986\n",
      "episode=15000 | successes_in_last_interval=991\n",
      "episode=16000 | successes_in_last_interval=988\n",
      "episode=17000 | successes_in_last_interval=990\n",
      "episode=18000 | successes_in_last_interval=991\n",
      "episode=19000 | successes_in_last_interval=992\n"
     ]
    }
   ],
   "source": [
    "### Execute the training loop ###\n",
    "\n",
    "env = gym.make('FrozenLake-v1', is_slippery=False)\n",
    "q_table = np.zeros([env.observation_space.n, env.action_space.n])\n",
    "episode_rewards = []\n",
    "track_progress_interval = 1000 # Print performance metric(s) every _ episodes\n",
    "\n",
    "for episode in range(TOTAL_EPISODES):\n",
    "\n",
    "    # Reset the environment and the done variables\n",
    "    state, info = env.reset()\n",
    "    done = False\n",
    "    curr_episode_total_reward = 0\n",
    "\n",
    "    # Decay epsilon - Note: Can simply be placed prior to while loop since using exp decay\n",
    "    epsilon = exp_decay_epsilon(episode)\n",
    "\n",
    "    # Play the game until win or lose\n",
    "    while not done:\n",
    "        # Perform action and get the associated reward and new state\n",
    "        action = select_action_epsilon_greedy(epsilon, q_table, state, env)\n",
    "        new_state, reward, done, truncated, info = env.step(action)\n",
    "\n",
    "        # Get Q-value of the current (or technically previous) state for the selected action\n",
    "        curr_q_value = q_table[state, action]\n",
    "\n",
    "        # Get max Q-value for the new state's row from the Q-table\n",
    "        new_state_optimal_q_value = np.max(q_table[new_state, :])\n",
    "\n",
    "        # Update the Q-table for the current (previous) state+action\n",
    "        q_table[state, action] = compute_next_q_value(curr_q_value, new_state_optimal_q_value, reward)\n",
    "\n",
    "        # Track sum of rewards across the entire episode, and set the new state for next loop\n",
    "        curr_episode_total_reward += reward\n",
    "        state = new_state\n",
    "\n",
    "    # Tracking performance across training\n",
    "    episode_rewards.append(curr_episode_total_reward)\n",
    "    if episode % track_progress_interval == 0 and episode != 0:\n",
    "        successes_in_last_interval = int(np.sum(episode_rewards[episode - track_progress_interval:]))\n",
    "        print(f'{episode=} | {successes_in_last_interval=}')\n",
    "\n",
    "env.close()\n"
   ]
  },
  {
   "cell_type": "markdown",
   "metadata": {},
   "source": [
    "### Results"
   ]
  },
  {
   "cell_type": "code",
   "execution_count": 5,
   "metadata": {},
   "outputs": [
    {
     "data": {
      "image/png": "[encoded data removed]",
      "text/plain": [
       "<Figure size 640x480 with 1 Axes>"
      ]
     },
     "metadata": {},
     "output_type": "display_data"
    },
    {
     "name": "stdout",
     "output_type": "stream",
     "text": [
      "Q-Table:\n",
      "[[0.73509189 0.77378094 0.77378094 0.73509189]\n",
      " [0.73509189 0.         0.81450625 0.77378094]\n",
      " [0.77378094 0.857375   0.77378094 0.81450625]\n",
      " [0.81450625 0.         0.76730359 0.77372193]\n",
      " [0.77378094 0.81450625 0.         0.73509189]\n",
      " [0.         0.         0.         0.        ]\n",
      " [0.         0.9025     0.         0.81450625]\n",
      " [0.         0.         0.         0.        ]\n",
      " [0.81450625 0.         0.857375   0.77378094]\n",
      " [0.81450625 0.9025     0.9025     0.        ]\n",
      " [0.857375   0.95       0.         0.857375  ]\n",
      " [0.         0.         0.         0.        ]\n",
      " [0.         0.         0.         0.        ]\n",
      " [0.         0.9025     0.95       0.857375  ]\n",
      " [0.9025     0.95       1.         0.9025    ]\n",
      " [0.         0.         0.         0.        ]]\n"
     ]
    }
   ],
   "source": [
    "### Plot the results and show the Q-table ###\n",
    "\n",
    "# Divide the episode rewards data into bins for plotting\n",
    "bin_size = 500\n",
    "binned_rewards = [episode_rewards[i:i + bin_size] for i in range(0, len(episode_rewards), bin_size)]\n",
    "binned_rewards_averages = [np.mean(bin) for bin in binned_rewards]\n",
    "x_values = [i for i in range(len(binned_rewards_averages))]\n",
    "\n",
    "plt.plot(x_values, binned_rewards_averages)\n",
    "plt.xlabel(f'Episode Bin (Each containing {bin_size} successive episodes)')\n",
    "plt.ylabel('Success Rate')\n",
    "plt.title(f'Success Rate Over Time')\n",
    "plt.show()\n",
    "\n",
    "print('Q-Table:')\n",
    "print(q_table)"
   ]
  },
  {
   "cell_type": "code",
   "execution_count": 6,
   "metadata": {},
   "outputs": [
    {
     "name": "stdout",
     "output_type": "stream",
     "text": [
      "step=0 | state=0\n",
      "step=1 | state=4 | action=1 | reward=0.0 | done=False\n",
      "step=2 | state=8 | action=1 | reward=0.0 | done=False\n",
      "step=3 | state=9 | action=2 | reward=0.0 | done=False\n",
      "step=4 | state=13 | action=1 | reward=0.0 | done=False\n",
      "step=5 | state=14 | action=2 | reward=0.0 | done=False\n",
      "step=6 | state=15 | action=2 | reward=1.0 | done=True\n"
     ]
    }
   ],
   "source": [
    "### Utilization of the trained policy (i.e., the learned Q-table) ###\n",
    "\n",
    "# Re-make the environment, but with render_mode='human'\n",
    "env = gym.make('FrozenLake-v1', is_slippery=False, render_mode='human')\n",
    "state, info = env.reset()\n",
    "done = False\n",
    "step = 0\n",
    "print(f'{step=} | {state=}')\n",
    "\n",
    "# Play the game using the policy\n",
    "while not done:\n",
    "    env.render()\n",
    "    action = np.argmax(q_table[state, :])\n",
    "    state, reward, done, truncated, info = env.step(action)\n",
    "    step += 1\n",
    "    print(f'{step=} | {state=} | {action=} | {reward=} | {done=}')\n",
    "    time.sleep(0.5)\n",
    "\n",
    "env.close()"
   ]
  }
 ],
 "metadata": {
  "kernelspec": {
   "display_name": "Python 3",
   "language": "python",
   "name": "python3"
  },
  "language_info": {
   "codemirror_mode": {
    "name": "ipython",
    "version": 3
   },
   "file_extension": ".py",
   "mimetype": "text/x-python",
   "name": "python",
   "nbconvert_exporter": "python",
   "pygments_lexer": "ipython3",
   "version": "3.12.2"
  }
 },
 "nbformat": 4,
 "nbformat_minor": 2
}
